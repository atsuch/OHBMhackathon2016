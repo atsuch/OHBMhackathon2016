{
 "cells": [
  {
   "cell_type": "code",
   "execution_count": 1,
   "metadata": {
    "collapsed": true
   },
   "outputs": [],
   "source": [
    "import numpy as np\n",
    "\n",
    "from bokeh.plotting import figure, show, output_file\n",
    "from bokeh.models import HoverTool, ColumnDataSource"
   ]
  },
  {
   "cell_type": "markdown",
   "metadata": {},
   "source": [
    "Use sample data from detrend.txt"
   ]
  },
  {
   "cell_type": "code",
   "execution_count": 2,
   "metadata": {
    "collapsed": true
   },
   "outputs": [],
   "source": [
    "raw_data = []\n",
    "with open(\"denoised_func.txt\") as f:\n",
    "    for line in f.readlines():\n",
    "        data = line.strip(\"\\n\").split(\" \")\n",
    "        data = [float(i) for i in data]\n",
    "        raw_data.append(data)\n",
    "        \n",
    "fc = np.asarray(raw_data).reshape((179,179))"
   ]
  },
  {
   "cell_type": "markdown",
   "metadata": {},
   "source": [
    "Since we don't have node info just make them up for now"
   ]
  },
  {
   "cell_type": "code",
   "execution_count": 3,
   "metadata": {
    "collapsed": true
   },
   "outputs": [],
   "source": [
    "nodes = [\"roi%s\" % (i+1) for i in range(len(fc))]"
   ]
  },
  {
   "cell_type": "code",
   "execution_count": 29,
   "metadata": {
    "collapsed": false
   },
   "outputs": [],
   "source": [
    "xname = []\n",
    "yname = []\n",
    "color = []\n",
    "hcolor = []\n",
    "alpha = []\n",
    "for i, node1 in enumerate(nodes):\n",
    "    for j, node2 in enumerate(nodes):\n",
    "        xname.append(node1)\n",
    "        yname.append(node2)\n",
    "        alpha.append(min(abs(fc[i,j]), 0.9) + 0.1)\n",
    "\n",
    "        if fc[i,j] < -0.2:\n",
    "            color.append(\"#eb5e60\")\n",
    "            hcolor.append(\"#e31a1c\")\n",
    "        elif fc[i,j] > 0.2:\n",
    "            color.append(\"#8fbbd9\")\n",
    "            hcolor.append(\"#1f78b4\")\n",
    "        else:\n",
    "            color.append('lightgrey')\n",
    "            hcolor.append('lightgrey')\n",
    "\n",
    "source = ColumnDataSource(data=dict(\n",
    "        xname=xname,\n",
    "        yname=yname,\n",
    "        colors=color,\n",
    "        hcolors=hcolor,\n",
    "        alphas=alpha,\n",
    "        count=fc.flatten(),\n",
    "))"
   ]
  },
  {
   "cell_type": "code",
   "execution_count": 30,
   "metadata": {
    "collapsed": false
   },
   "outputs": [
    {
     "name": "stdout",
     "output_type": "stream",
     "text": [
      "val: -0.117696130636, color: lightgrey, hcolor: lightgrey\n"
     ]
    }
   ],
   "source": [
    "print (\"val: %s, color: %s, hcolor: %s\"%(fc[0,1],color[1],hcolor[1]))\n"
   ]
  },
  {
   "cell_type": "code",
   "execution_count": 41,
   "metadata": {
    "collapsed": true
   },
   "outputs": [],
   "source": [
    "p = figure(title=\"Functional Connectivity Matrix\",\n",
    "           x_axis_location=\"above\", tools=\"resize,box_zoom,hover,save,reset\",\n",
    "           x_range=list(reversed(nodes)), y_range=nodes)"
   ]
  },
  {
   "cell_type": "code",
   "execution_count": 42,
   "metadata": {
    "collapsed": true
   },
   "outputs": [],
   "source": [
    "p.plot_width = 800\n",
    "p.plot_height = 800\n",
    "p.grid.grid_line_color = None\n",
    "p.axis.axis_line_color = None\n",
    "p.axis.major_tick_line_color = None\n",
    "p.axis.major_label_text_font_size = \"5pt\"\n",
    "p.axis.major_label_standoff = 0\n",
    "p.xaxis.major_label_orientation = np.pi/3"
   ]
  },
  {
   "cell_type": "code",
   "execution_count": 43,
   "metadata": {
    "collapsed": false
   },
   "outputs": [],
   "source": [
    "rc = p.rect('xname', 'yname', 0.9, 0.9, source=source,\n",
    "        color='colors', alpha='alphas', line_color=None, \n",
    "        hover_line_color=\"black\", hover_color='hcolors', hover_alpha=1.0)\n",
    "\n",
    "p.select_one(HoverTool).tooltips = [('names', '@yname, @xname'),\n",
    "                                  ('FC strength', '@count'),]"
   ]
  },
  {
   "cell_type": "code",
   "execution_count": 44,
   "metadata": {
    "collapsed": true
   },
   "outputs": [],
   "source": [
    "output_file(\"fc_test.html\", title=\"FC Matrix example\")\n",
    "\n",
    "show(p) # show the plot"
   ]
  }
 ],
 "metadata": {
  "kernelspec": {
   "display_name": "Python 2",
   "language": "python",
   "name": "python2"
  },
  "language_info": {
   "codemirror_mode": {
    "name": "ipython",
    "version": 2
   },
   "file_extension": ".py",
   "mimetype": "text/x-python",
   "name": "python",
   "nbconvert_exporter": "python",
   "pygments_lexer": "ipython2",
   "version": "2.7.11"
  }
 },
 "nbformat": 4,
 "nbformat_minor": 0
}
